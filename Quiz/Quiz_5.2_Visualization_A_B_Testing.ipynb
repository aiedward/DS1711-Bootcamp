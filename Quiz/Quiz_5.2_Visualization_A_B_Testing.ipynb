{
 "cells": [
  {
   "cell_type": "markdown",
   "metadata": {},
   "source": [
    "# Visualization"
   ]
  },
  {
   "cell_type": "code",
   "execution_count": 27,
   "metadata": {
    "collapsed": true
   },
   "outputs": [],
   "source": [
    "# import all dependencies needed\n",
    "import numpy as np\n",
    "import pandas as pd\n",
    "import seaborn as sns\n",
    "\n",
    "import matplotlib.pyplot as plt\n",
    "import matplotlib; matplotlib.style.use('ggplot')## set plot style\n",
    "\n",
    "from pandas import set_option\n",
    "set_option(\"display.max_rows\", 16)\n",
    "\n",
    "LARGE_FIGSIZE = (12, 8)\n",
    "\n",
    "# inline plots\n",
    "%matplotlib inline"
   ]
  },
  {
   "cell_type": "markdown",
   "metadata": {
    "collapsed": true
   },
   "source": [
    "### Load csv data"
   ]
  },
  {
   "cell_type": "code",
   "execution_count": 5,
   "metadata": {
    "collapsed": true
   },
   "outputs": [],
   "source": [
    "df = pd.read_csv('lexpectancy.csv')"
   ]
  },
  {
   "cell_type": "code",
   "execution_count": 6,
   "metadata": {},
   "outputs": [
    {
     "data": {
      "text/html": [
       "<div>\n",
       "<style>\n",
       "    .dataframe thead tr:only-child th {\n",
       "        text-align: right;\n",
       "    }\n",
       "\n",
       "    .dataframe thead th {\n",
       "        text-align: left;\n",
       "    }\n",
       "\n",
       "    .dataframe tbody tr th {\n",
       "        vertical-align: top;\n",
       "    }\n",
       "</style>\n",
       "<table border=\"1\" class=\"dataframe\">\n",
       "  <thead>\n",
       "    <tr style=\"text-align: right;\">\n",
       "      <th></th>\n",
       "      <th>Country</th>\n",
       "      <th>Code</th>\n",
       "      <th>1960</th>\n",
       "      <th>1961</th>\n",
       "      <th>1962</th>\n",
       "      <th>1963</th>\n",
       "      <th>1964</th>\n",
       "      <th>1965</th>\n",
       "      <th>1966</th>\n",
       "      <th>1967</th>\n",
       "      <th>...</th>\n",
       "      <th>2004</th>\n",
       "      <th>2005</th>\n",
       "      <th>2006</th>\n",
       "      <th>2007</th>\n",
       "      <th>2008</th>\n",
       "      <th>2009</th>\n",
       "      <th>2010</th>\n",
       "      <th>2011</th>\n",
       "      <th>2012</th>\n",
       "      <th>2013</th>\n",
       "    </tr>\n",
       "  </thead>\n",
       "  <tbody>\n",
       "    <tr>\n",
       "      <th>0</th>\n",
       "      <td>Aruba</td>\n",
       "      <td>ABW</td>\n",
       "      <td>65.569366</td>\n",
       "      <td>65.988024</td>\n",
       "      <td>66.365537</td>\n",
       "      <td>66.713976</td>\n",
       "      <td>67.044293</td>\n",
       "      <td>67.369756</td>\n",
       "      <td>67.699000</td>\n",
       "      <td>68.034683</td>\n",
       "      <td>...</td>\n",
       "      <td>74.090854</td>\n",
       "      <td>74.228073</td>\n",
       "      <td>74.376195</td>\n",
       "      <td>74.526756</td>\n",
       "      <td>74.675732</td>\n",
       "      <td>74.818146</td>\n",
       "      <td>74.953537</td>\n",
       "      <td>75.081390</td>\n",
       "      <td>75.205756</td>\n",
       "      <td>75.328659</td>\n",
       "    </tr>\n",
       "    <tr>\n",
       "      <th>1</th>\n",
       "      <td>Andorra</td>\n",
       "      <td>AND</td>\n",
       "      <td>NaN</td>\n",
       "      <td>NaN</td>\n",
       "      <td>NaN</td>\n",
       "      <td>NaN</td>\n",
       "      <td>NaN</td>\n",
       "      <td>NaN</td>\n",
       "      <td>NaN</td>\n",
       "      <td>NaN</td>\n",
       "      <td>...</td>\n",
       "      <td>NaN</td>\n",
       "      <td>NaN</td>\n",
       "      <td>NaN</td>\n",
       "      <td>NaN</td>\n",
       "      <td>NaN</td>\n",
       "      <td>NaN</td>\n",
       "      <td>NaN</td>\n",
       "      <td>NaN</td>\n",
       "      <td>NaN</td>\n",
       "      <td>NaN</td>\n",
       "    </tr>\n",
       "    <tr>\n",
       "      <th>2</th>\n",
       "      <td>Afghanistan</td>\n",
       "      <td>AFG</td>\n",
       "      <td>32.328512</td>\n",
       "      <td>32.777439</td>\n",
       "      <td>33.219902</td>\n",
       "      <td>33.657878</td>\n",
       "      <td>34.092878</td>\n",
       "      <td>34.525390</td>\n",
       "      <td>34.957415</td>\n",
       "      <td>35.389415</td>\n",
       "      <td>...</td>\n",
       "      <td>56.626317</td>\n",
       "      <td>57.027244</td>\n",
       "      <td>57.432561</td>\n",
       "      <td>57.833829</td>\n",
       "      <td>58.225024</td>\n",
       "      <td>58.603683</td>\n",
       "      <td>58.970829</td>\n",
       "      <td>59.327951</td>\n",
       "      <td>59.679610</td>\n",
       "      <td>60.028268</td>\n",
       "    </tr>\n",
       "    <tr>\n",
       "      <th>3</th>\n",
       "      <td>Angola</td>\n",
       "      <td>AGO</td>\n",
       "      <td>32.984829</td>\n",
       "      <td>33.386220</td>\n",
       "      <td>33.787585</td>\n",
       "      <td>34.188463</td>\n",
       "      <td>34.590341</td>\n",
       "      <td>34.992220</td>\n",
       "      <td>35.395098</td>\n",
       "      <td>35.799976</td>\n",
       "      <td>...</td>\n",
       "      <td>48.003512</td>\n",
       "      <td>48.538805</td>\n",
       "      <td>49.007049</td>\n",
       "      <td>49.435732</td>\n",
       "      <td>49.847390</td>\n",
       "      <td>50.251024</td>\n",
       "      <td>50.654171</td>\n",
       "      <td>51.059317</td>\n",
       "      <td>51.464000</td>\n",
       "      <td>51.866171</td>\n",
       "    </tr>\n",
       "    <tr>\n",
       "      <th>4</th>\n",
       "      <td>Albania</td>\n",
       "      <td>ALB</td>\n",
       "      <td>62.254366</td>\n",
       "      <td>63.273463</td>\n",
       "      <td>64.162854</td>\n",
       "      <td>64.887098</td>\n",
       "      <td>65.438195</td>\n",
       "      <td>65.827390</td>\n",
       "      <td>66.089317</td>\n",
       "      <td>66.287220</td>\n",
       "      <td>...</td>\n",
       "      <td>75.839000</td>\n",
       "      <td>76.089390</td>\n",
       "      <td>76.290537</td>\n",
       "      <td>76.464854</td>\n",
       "      <td>76.632317</td>\n",
       "      <td>76.801878</td>\n",
       "      <td>76.978512</td>\n",
       "      <td>77.163220</td>\n",
       "      <td>77.350463</td>\n",
       "      <td>77.537244</td>\n",
       "    </tr>\n",
       "  </tbody>\n",
       "</table>\n",
       "<p>5 rows × 56 columns</p>\n",
       "</div>"
      ],
      "text/plain": [
       "       Country Code       1960       1961       1962       1963       1964  \\\n",
       "0        Aruba  ABW  65.569366  65.988024  66.365537  66.713976  67.044293   \n",
       "1      Andorra  AND        NaN        NaN        NaN        NaN        NaN   \n",
       "2  Afghanistan  AFG  32.328512  32.777439  33.219902  33.657878  34.092878   \n",
       "3       Angola  AGO  32.984829  33.386220  33.787585  34.188463  34.590341   \n",
       "4      Albania  ALB  62.254366  63.273463  64.162854  64.887098  65.438195   \n",
       "\n",
       "        1965       1966       1967    ...           2004       2005  \\\n",
       "0  67.369756  67.699000  68.034683    ...      74.090854  74.228073   \n",
       "1        NaN        NaN        NaN    ...            NaN        NaN   \n",
       "2  34.525390  34.957415  35.389415    ...      56.626317  57.027244   \n",
       "3  34.992220  35.395098  35.799976    ...      48.003512  48.538805   \n",
       "4  65.827390  66.089317  66.287220    ...      75.839000  76.089390   \n",
       "\n",
       "        2006       2007       2008       2009       2010       2011  \\\n",
       "0  74.376195  74.526756  74.675732  74.818146  74.953537  75.081390   \n",
       "1        NaN        NaN        NaN        NaN        NaN        NaN   \n",
       "2  57.432561  57.833829  58.225024  58.603683  58.970829  59.327951   \n",
       "3  49.007049  49.435732  49.847390  50.251024  50.654171  51.059317   \n",
       "4  76.290537  76.464854  76.632317  76.801878  76.978512  77.163220   \n",
       "\n",
       "        2012       2013  \n",
       "0  75.205756  75.328659  \n",
       "1        NaN        NaN  \n",
       "2  59.679610  60.028268  \n",
       "3  51.464000  51.866171  \n",
       "4  77.350463  77.537244  \n",
       "\n",
       "[5 rows x 56 columns]"
      ]
     },
     "execution_count": 6,
     "metadata": {},
     "output_type": "execute_result"
    }
   ],
   "source": [
    "df.head()"
   ]
  },
  {
   "cell_type": "code",
   "execution_count": null,
   "metadata": {
    "collapsed": true
   },
   "outputs": [],
   "source": [
    "# df.shape\n",
    "# df.info()"
   ]
  },
  {
   "cell_type": "code",
   "execution_count": 7,
   "metadata": {},
   "outputs": [
    {
     "data": {
      "text/html": [
       "<div>\n",
       "<style>\n",
       "    .dataframe thead tr:only-child th {\n",
       "        text-align: right;\n",
       "    }\n",
       "\n",
       "    .dataframe thead th {\n",
       "        text-align: left;\n",
       "    }\n",
       "\n",
       "    .dataframe tbody tr th {\n",
       "        vertical-align: top;\n",
       "    }\n",
       "</style>\n",
       "<table border=\"1\" class=\"dataframe\">\n",
       "  <thead>\n",
       "    <tr style=\"text-align: right;\">\n",
       "      <th></th>\n",
       "      <th>Code</th>\n",
       "      <th>1960</th>\n",
       "      <th>1961</th>\n",
       "      <th>1962</th>\n",
       "      <th>1963</th>\n",
       "      <th>1964</th>\n",
       "      <th>1965</th>\n",
       "      <th>1966</th>\n",
       "      <th>1967</th>\n",
       "      <th>1968</th>\n",
       "      <th>...</th>\n",
       "      <th>2004</th>\n",
       "      <th>2005</th>\n",
       "      <th>2006</th>\n",
       "      <th>2007</th>\n",
       "      <th>2008</th>\n",
       "      <th>2009</th>\n",
       "      <th>2010</th>\n",
       "      <th>2011</th>\n",
       "      <th>2012</th>\n",
       "      <th>2013</th>\n",
       "    </tr>\n",
       "    <tr>\n",
       "      <th>Country</th>\n",
       "      <th></th>\n",
       "      <th></th>\n",
       "      <th></th>\n",
       "      <th></th>\n",
       "      <th></th>\n",
       "      <th></th>\n",
       "      <th></th>\n",
       "      <th></th>\n",
       "      <th></th>\n",
       "      <th></th>\n",
       "      <th></th>\n",
       "      <th></th>\n",
       "      <th></th>\n",
       "      <th></th>\n",
       "      <th></th>\n",
       "      <th></th>\n",
       "      <th></th>\n",
       "      <th></th>\n",
       "      <th></th>\n",
       "      <th></th>\n",
       "      <th></th>\n",
       "    </tr>\n",
       "  </thead>\n",
       "  <tbody>\n",
       "    <tr>\n",
       "      <th>Aruba</th>\n",
       "      <td>ABW</td>\n",
       "      <td>65.569366</td>\n",
       "      <td>65.988024</td>\n",
       "      <td>66.365537</td>\n",
       "      <td>66.713976</td>\n",
       "      <td>67.044293</td>\n",
       "      <td>67.369756</td>\n",
       "      <td>67.699000</td>\n",
       "      <td>68.034683</td>\n",
       "      <td>68.377146</td>\n",
       "      <td>...</td>\n",
       "      <td>74.090854</td>\n",
       "      <td>74.228073</td>\n",
       "      <td>74.376195</td>\n",
       "      <td>74.526756</td>\n",
       "      <td>74.675732</td>\n",
       "      <td>74.818146</td>\n",
       "      <td>74.953537</td>\n",
       "      <td>75.081390</td>\n",
       "      <td>75.205756</td>\n",
       "      <td>75.328659</td>\n",
       "    </tr>\n",
       "    <tr>\n",
       "      <th>Andorra</th>\n",
       "      <td>AND</td>\n",
       "      <td>NaN</td>\n",
       "      <td>NaN</td>\n",
       "      <td>NaN</td>\n",
       "      <td>NaN</td>\n",
       "      <td>NaN</td>\n",
       "      <td>NaN</td>\n",
       "      <td>NaN</td>\n",
       "      <td>NaN</td>\n",
       "      <td>NaN</td>\n",
       "      <td>...</td>\n",
       "      <td>NaN</td>\n",
       "      <td>NaN</td>\n",
       "      <td>NaN</td>\n",
       "      <td>NaN</td>\n",
       "      <td>NaN</td>\n",
       "      <td>NaN</td>\n",
       "      <td>NaN</td>\n",
       "      <td>NaN</td>\n",
       "      <td>NaN</td>\n",
       "      <td>NaN</td>\n",
       "    </tr>\n",
       "    <tr>\n",
       "      <th>Afghanistan</th>\n",
       "      <td>AFG</td>\n",
       "      <td>32.328512</td>\n",
       "      <td>32.777439</td>\n",
       "      <td>33.219902</td>\n",
       "      <td>33.657878</td>\n",
       "      <td>34.092878</td>\n",
       "      <td>34.525390</td>\n",
       "      <td>34.957415</td>\n",
       "      <td>35.389415</td>\n",
       "      <td>35.822415</td>\n",
       "      <td>...</td>\n",
       "      <td>56.626317</td>\n",
       "      <td>57.027244</td>\n",
       "      <td>57.432561</td>\n",
       "      <td>57.833829</td>\n",
       "      <td>58.225024</td>\n",
       "      <td>58.603683</td>\n",
       "      <td>58.970829</td>\n",
       "      <td>59.327951</td>\n",
       "      <td>59.679610</td>\n",
       "      <td>60.028268</td>\n",
       "    </tr>\n",
       "    <tr>\n",
       "      <th>Angola</th>\n",
       "      <td>AGO</td>\n",
       "      <td>32.984829</td>\n",
       "      <td>33.386220</td>\n",
       "      <td>33.787585</td>\n",
       "      <td>34.188463</td>\n",
       "      <td>34.590341</td>\n",
       "      <td>34.992220</td>\n",
       "      <td>35.395098</td>\n",
       "      <td>35.799976</td>\n",
       "      <td>36.205854</td>\n",
       "      <td>...</td>\n",
       "      <td>48.003512</td>\n",
       "      <td>48.538805</td>\n",
       "      <td>49.007049</td>\n",
       "      <td>49.435732</td>\n",
       "      <td>49.847390</td>\n",
       "      <td>50.251024</td>\n",
       "      <td>50.654171</td>\n",
       "      <td>51.059317</td>\n",
       "      <td>51.464000</td>\n",
       "      <td>51.866171</td>\n",
       "    </tr>\n",
       "    <tr>\n",
       "      <th>Albania</th>\n",
       "      <td>ALB</td>\n",
       "      <td>62.254366</td>\n",
       "      <td>63.273463</td>\n",
       "      <td>64.162854</td>\n",
       "      <td>64.887098</td>\n",
       "      <td>65.438195</td>\n",
       "      <td>65.827390</td>\n",
       "      <td>66.089317</td>\n",
       "      <td>66.287220</td>\n",
       "      <td>66.474951</td>\n",
       "      <td>...</td>\n",
       "      <td>75.839000</td>\n",
       "      <td>76.089390</td>\n",
       "      <td>76.290537</td>\n",
       "      <td>76.464854</td>\n",
       "      <td>76.632317</td>\n",
       "      <td>76.801878</td>\n",
       "      <td>76.978512</td>\n",
       "      <td>77.163220</td>\n",
       "      <td>77.350463</td>\n",
       "      <td>77.537244</td>\n",
       "    </tr>\n",
       "  </tbody>\n",
       "</table>\n",
       "<p>5 rows × 55 columns</p>\n",
       "</div>"
      ],
      "text/plain": [
       "            Code       1960       1961       1962       1963       1964  \\\n",
       "Country                                                                   \n",
       "Aruba        ABW  65.569366  65.988024  66.365537  66.713976  67.044293   \n",
       "Andorra      AND        NaN        NaN        NaN        NaN        NaN   \n",
       "Afghanistan  AFG  32.328512  32.777439  33.219902  33.657878  34.092878   \n",
       "Angola       AGO  32.984829  33.386220  33.787585  34.188463  34.590341   \n",
       "Albania      ALB  62.254366  63.273463  64.162854  64.887098  65.438195   \n",
       "\n",
       "                  1965       1966       1967       1968    ...           2004  \\\n",
       "Country                                                    ...                  \n",
       "Aruba        67.369756  67.699000  68.034683  68.377146    ...      74.090854   \n",
       "Andorra            NaN        NaN        NaN        NaN    ...            NaN   \n",
       "Afghanistan  34.525390  34.957415  35.389415  35.822415    ...      56.626317   \n",
       "Angola       34.992220  35.395098  35.799976  36.205854    ...      48.003512   \n",
       "Albania      65.827390  66.089317  66.287220  66.474951    ...      75.839000   \n",
       "\n",
       "                  2005       2006       2007       2008       2009       2010  \\\n",
       "Country                                                                         \n",
       "Aruba        74.228073  74.376195  74.526756  74.675732  74.818146  74.953537   \n",
       "Andorra            NaN        NaN        NaN        NaN        NaN        NaN   \n",
       "Afghanistan  57.027244  57.432561  57.833829  58.225024  58.603683  58.970829   \n",
       "Angola       48.538805  49.007049  49.435732  49.847390  50.251024  50.654171   \n",
       "Albania      76.089390  76.290537  76.464854  76.632317  76.801878  76.978512   \n",
       "\n",
       "                  2011       2012       2013  \n",
       "Country                                       \n",
       "Aruba        75.081390  75.205756  75.328659  \n",
       "Andorra            NaN        NaN        NaN  \n",
       "Afghanistan  59.327951  59.679610  60.028268  \n",
       "Angola       51.059317  51.464000  51.866171  \n",
       "Albania      77.163220  77.350463  77.537244  \n",
       "\n",
       "[5 rows x 55 columns]"
      ]
     },
     "execution_count": 7,
     "metadata": {},
     "output_type": "execute_result"
    }
   ],
   "source": [
    "# make country as our index for sake of convinience\n",
    "df = df.set_index('Country')\n",
    "df.head()"
   ]
  },
  {
   "cell_type": "markdown",
   "metadata": {},
   "source": [
    "## Matplotlib"
   ]
  },
  {
   "cell_type": "markdown",
   "metadata": {},
   "source": [
    "### 1. Plot the average of life expectancy from 1960 to 2013"
   ]
  },
  {
   "cell_type": "code",
   "execution_count": 10,
   "metadata": {},
   "outputs": [
    {
     "data": {
      "text/plain": [
       "<matplotlib.axes._subplots.AxesSubplot at 0x10e24bc50>"
      ]
     },
     "execution_count": 10,
     "metadata": {},
     "output_type": "execute_result"
    },
    {
     "data": {
      "image/png": "[encoded data removed]",
      "text/plain": [
       "<matplotlib.figure.Figure at 0x10e26ce10>"
      ]
     },
     "metadata": {},
     "output_type": "display_data"
    }
   ],
   "source": [
    "df.mean().plot()"
   ]
  },
  {
   "cell_type": "markdown",
   "metadata": {},
   "source": [
    "### 2. Visualize the distribution of life expectancy in 1960 with histagram"
   ]
  },
  {
   "cell_type": "code",
   "execution_count": 13,
   "metadata": {},
   "outputs": [
    {
     "data": {
      "image/png": "[encoded data removed]",
      "text/plain": [
       "<matplotlib.figure.Figure at 0x10e7dfa20>"
      ]
     },
     "metadata": {},
     "output_type": "display_data"
    }
   ],
   "source": [
    "df.hist(column='1960', bins=20);"
   ]
  },
  {
   "cell_type": "markdown",
   "metadata": {},
   "source": [
    "### 3. Use subplots to complare distribution between 2013 and 1960"
   ]
  },
  {
   "cell_type": "code",
   "execution_count": 14,
   "metadata": {},
   "outputs": [
    {
     "data": {
      "image/png": "[encoded data removed]",
      "text/plain": [
       "<matplotlib.figure.Figure at 0x10e8fdda0>"
      ]
     },
     "metadata": {},
     "output_type": "display_data"
    }
   ],
   "source": [
    "f, (ax1, ax2) = plt.subplots(2);\n",
    "df.hist(column='1960', ax=ax1);\n",
    "df.hist(column='2013', color='green', ax=ax2);"
   ]
  },
  {
   "cell_type": "markdown",
   "metadata": {},
   "source": [
    "### 4. Plot two subplot into one single plot and make lable and title for distribution between 2013 and 1963"
   ]
  },
  {
   "cell_type": "code",
   "execution_count": 15,
   "metadata": {},
   "outputs": [
    {
     "data": {
      "text/plain": [
       "<matplotlib.text.Text at 0x10e446160>"
      ]
     },
     "execution_count": 15,
     "metadata": {},
     "output_type": "execute_result"
    },
    {
     "data": {
      "image/png": "[encoded data removed]",
      "text/plain": [
       "<matplotlib.figure.Figure at 0x10e801be0>"
      ]
     },
     "metadata": {},
     "output_type": "display_data"
    }
   ],
   "source": [
    "f, (ax1) = plt.subplots(1,figsize=LARGE_FIGSIZE)\n",
    "df.hist(column='1960',bins=30, ax=ax1);\n",
    "df.hist(column='2013',bins=30, color='blue', ax=ax1);\n",
    "plt.xlabel('Life Expectancy')\n",
    "plt.ylabel('Number of Countries')\n",
    "plt.title(\"1960 vs 2013\")"
   ]
  },
  {
   "cell_type": "markdown",
   "metadata": {},
   "source": [
    "### 5. Visualize the life expectancy trend from 1960 to 2013."
   ]
  },
  {
   "cell_type": "code",
   "execution_count": 31,
   "metadata": {},
   "outputs": [
    {
     "data": {
      "text/plain": [
       "(array([ 1,  2,  3,  4,  5,  6,  7,  8,  9, 10, 11, 12, 13, 14, 15, 16, 17,\n",
       "        18, 19, 20, 21, 22, 23, 24, 25, 26, 27, 28, 29, 30, 31, 32, 33, 34,\n",
       "        35, 36, 37, 38, 39, 40, 41, 42, 43, 44, 45, 46, 47, 48, 49, 50, 51,\n",
       "        52, 53, 54]), <a list of 54 Text xticklabel objects>)"
      ]
     },
     "execution_count": 31,
     "metadata": {},
     "output_type": "execute_result"
    },
    {
     "data": {
      "image/png": "[encoded data removed]",
      "text/plain": [
       "<matplotlib.figure.Figure at 0x1142b5358>"
      ]
     },
     "metadata": {},
     "output_type": "display_data"
    }
   ],
   "source": [
    "fig = plt.figure(figsize=LARGE_FIGSIZE)\n",
    "df.boxplot(sym=\"*\")\n",
    "plt.xticks(rotation='vertical')"
   ]
  },
  {
   "cell_type": "markdown",
   "metadata": {},
   "source": [
    "## Seaborn"
   ]
  },
  {
   "cell_type": "markdown",
   "metadata": {},
   "source": [
    "### 1. Drop na values in year 2010 and use seaborn to make kernel density plot"
   ]
  },
  {
   "cell_type": "code",
   "execution_count": 16,
   "metadata": {},
   "outputs": [
    {
     "data": {
      "text/plain": [
       "Country\n",
       "Aruba                   74.953537\n",
       "Afghanistan             58.970829\n",
       "Angola                  50.654171\n",
       "Albania                 76.978512\n",
       "Arab World              70.003017\n",
       "United Arab Emirates    76.675244\n",
       "Argentina               75.484976\n",
       "Armenia                 74.226341\n",
       "                          ...    \n",
       "West Bank and Gaza      72.640488\n",
       "World                   70.471161\n",
       "Samoa                   72.417000\n",
       "Yemen, Rep.             62.768732\n",
       "South Africa            54.390756\n",
       "Congo, Dem. Rep.        56.896146\n",
       "Zambia                  56.383854\n",
       "Zimbabwe                49.574659\n",
       "Name: 2010, Length: 233, dtype: float64"
      ]
     },
     "execution_count": 16,
     "metadata": {},
     "output_type": "execute_result"
    }
   ],
   "source": [
    "## Drop 2010 na value \n",
    "## Type your answer here below ##\n",
    "df['2010'].dropna()"
   ]
  },
  {
   "cell_type": "code",
   "execution_count": 17,
   "metadata": {},
   "outputs": [
    {
     "data": {
      "image/png": "[encoded data removed]",
      "text/plain": [
       "<matplotlib.figure.Figure at 0x10e71cd68>"
      ]
     },
     "metadata": {},
     "output_type": "display_data"
    }
   ],
   "source": [
    "## Plot\n",
    "## Type your answer here below ##\n",
    "sns.distplot(df['2010'].dropna(), hist=False, kde=True, rug=False, bins=25);"
   ]
  },
  {
   "cell_type": "markdown",
   "metadata": {},
   "source": [
    "### 2. Plot distribution between 1963 and 2010 into one single plot using seborn distplot. (Overlap distribution onto hist)"
   ]
  },
  {
   "cell_type": "code",
   "execution_count": 18,
   "metadata": {},
   "outputs": [
    {
     "data": {
      "text/plain": [
       "<matplotlib.text.Text at 0x10eecb7b8>"
      ]
     },
     "execution_count": 18,
     "metadata": {},
     "output_type": "execute_result"
    },
    {
     "data": {
      "image/png": "[encoded data removed]",
      "text/plain": [
       "<matplotlib.figure.Figure at 0x10ee15b38>"
      ]
     },
     "metadata": {},
     "output_type": "display_data"
    }
   ],
   "source": [
    "f, ax1 = plt.subplots(1, figsize=LARGE_FIGSIZE)\n",
    "sns.distplot(df['1960'].dropna(),hist=True, kde=True, rug=False, bins=25);\n",
    "sns.distplot(df['2010'].dropna(),hist=True, kde=True, rug=False, bins=25);\n",
    "plt.xlabel('Life Expectancy');\n",
    "plt.ylabel('Number of Countries');\n",
    "plt.title('Life Expectancy: 1960 vs 2010')"
   ]
  },
  {
   "cell_type": "markdown",
   "metadata": {},
   "source": [
    "### 3. Boxplot to visualize year 1960 and 2010"
   ]
  },
  {
   "cell_type": "code",
   "execution_count": 22,
   "metadata": {},
   "outputs": [
    {
     "data": {
      "image/png": "[encoded data removed]",
      "text/plain": [
       "<matplotlib.figure.Figure at 0x10e994048>"
      ]
     },
     "metadata": {},
     "output_type": "display_data"
    }
   ],
   "source": [
    "df.boxplot(column=['1960','2010']);"
   ]
  },
  {
   "cell_type": "markdown",
   "metadata": {},
   "source": [
    "### 4. Violinplot the distribution of year 1960"
   ]
  },
  {
   "cell_type": "code",
   "execution_count": 23,
   "metadata": {},
   "outputs": [
    {
     "data": {
      "text/plain": [
       "<matplotlib.axes._subplots.AxesSubplot at 0x10e7f8320>"
      ]
     },
     "execution_count": 23,
     "metadata": {},
     "output_type": "execute_result"
    },
    {
     "data": {
      "image/png": "[encoded data removed]",
      "text/plain": [
       "<matplotlib.figure.Figure at 0x10e9af748>"
      ]
     },
     "metadata": {},
     "output_type": "display_data"
    }
   ],
   "source": [
    "sns.violinplot(df['1960'])"
   ]
  },
  {
   "cell_type": "markdown",
   "metadata": {},
   "source": [
    "### 5. Violinplot the distribution in year 1960 and 2010"
   ]
  },
  {
   "cell_type": "code",
   "execution_count": 24,
   "metadata": {},
   "outputs": [
    {
     "data": {
      "text/plain": [
       "<matplotlib.axes._subplots.AxesSubplot at 0x10f3482e8>"
      ]
     },
     "execution_count": 24,
     "metadata": {},
     "output_type": "execute_result"
    },
    {
     "data": {
      "image/png": "[encoded data removed]",
      "text/plain": [
       "<matplotlib.figure.Figure at 0x1124cf780>"
      ]
     },
     "metadata": {},
     "output_type": "display_data"
    }
   ],
   "source": [
    "sns.violinplot(df['1960'], palette=\"Set2\",linewidth=5)\n",
    "sns.violinplot(df['2010'],linewidth=5)"
   ]
  },
  {
   "cell_type": "markdown",
   "metadata": {
    "collapsed": true
   },
   "source": [
    "# A/B Testing Concepts"
   ]
  },
  {
   "cell_type": "markdown",
   "metadata": {},
   "source": [
    "### 1. What do you understand by A/B Testing? What is the goal behind performing A/B Testing?"
   ]
  },
  {
   "cell_type": "markdown",
   "metadata": {},
   "source": [
    "**Answer:** A/B Testing (also known as Split testing) defines a way to **compare two versions** of an application or a web page that enables you to determine, which one performs better. A/B Testing is one of the easiest ways, where you can modify an application or a web page to create a new version and then comparing both these versions to find the conversion rate. This also lets us know, which is the **better performer** of the two."
   ]
  },
  {
   "cell_type": "markdown",
   "metadata": {},
   "source": [
    "### 2. What is the use of Confidence interval in A/B Testing?"
   ]
  },
  {
   "cell_type": "markdown",
   "metadata": {},
   "source": [
    "**Answer**: Confidence interval is called **measurement of deviation** from the average on the multiple number of samples. Let us assume that 22% of people prefer product A, with +/- 2% of confidence interval. This interval indicates the **upper and lower limit** of the people, who opt for Product A and is also called **margin of error**. For best results in this average survey, the margin of error should be as small as possible."
   ]
  },
  {
   "cell_type": "markdown",
   "metadata": {},
   "source": [
    "### 3. When should you think of performing A/B testing?"
   ]
  },
  {
   "cell_type": "markdown",
   "metadata": {},
   "source": [
    "**Answer**: Always perform A/B Testing if there is probability to **beat the original variation by >5%**. Test should be run for considerable amount of time, so that you should have enough sample data to **perform statistics and analysis**. A/B Testing also enables you to gain maximum from your existing traffic on a webpage.\n",
    "\n",
    "The cost of increasing your conversions is minimal as compared to the cost of setting up the traffic on your website. The **ROI (return on investment)** on A/B Testing is huge, as a few minor changes on a website can result in a significant increase of the conversion rate."
   ]
  },
  {
   "cell_type": "markdown",
   "metadata": {},
   "source": [
    "### 4. What do you understand by A/B Testing - Analyze Results?"
   ]
  },
  {
   "cell_type": "markdown",
   "metadata": {},
   "source": [
    "**Answer**: Once an experiment is completed, **next is to analyze the results**. A/B Testing tool will present the data from the experiment and will tell you the difference between how the different variations of that web page are performed. It will also show if there is a significant difference between variations using mathematical methods and statistics."
   ]
  },
  {
   "cell_type": "code",
   "execution_count": null,
   "metadata": {
    "collapsed": true
   },
   "outputs": [],
   "source": []
  }
 ],
 "metadata": {
  "kernelspec": {
   "display_name": "Python 3",
   "language": "python",
   "name": "python3"
  },
  "language_info": {
   "codemirror_mode": {
    "name": "ipython",
    "version": 3
   },
   "file_extension": ".py",
   "mimetype": "text/x-python",
   "name": "python",
   "nbconvert_exporter": "python",
   "pygments_lexer": "ipython3",
   "version": "3.6.1"
  }
 },
 "nbformat": 4,
 "nbformat_minor": 2
}
