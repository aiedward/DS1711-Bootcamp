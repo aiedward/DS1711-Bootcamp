{
 "cells": [
  {
   "cell_type": "markdown",
   "metadata": {},
   "source": [
    "## Mini project 6 - History Kaggle Demo: Airbnb New User Bookings"
   ]
  },
  {
   "cell_type": "markdown",
   "metadata": {},
   "source": [
    "What we need you to learn from this mini project are:"
   ]
  },
  {
   "cell_type": "markdown",
   "metadata": {},
   "source": [
    "1. Get familiar with the overall procedures of doing a Kaggle Competition (Basic knowledge on data exploration, data preprocessing, modelling and model tuning).\n",
    "2. Cultivate the sense of data analysis and feature extraction. You should learn to have your own ideas on how to process the data, what kind of features you can extract from the given information, how to dig more possible insights and give solutions from the data ... \n",
    "3. Know how to search for useful information and help from related website. You can receive a lot of beautiful insights from the Discussion of the competition.\n",
    "4. ..."
   ]
  },
  {
   "cell_type": "markdown",
   "metadata": {},
   "source": [
    "** This Week's Topic：Airbnb New User Bookings **"
   ]
  },
  {
   "cell_type": "markdown",
   "metadata": {},
   "source": [
    "You can get the detailed information and download the data from the following link:<br/>\n",
    "https://www.kaggle.com/c/airbnb-recruiting-new-user-bookings/data\n",
    "\n",
    "Note: You need to sign up a Kaggle Account before you can download the data."
   ]
  },
  {
   "cell_type": "markdown",
   "metadata": {
    "collapsed": true
   },
   "source": [
    "** Requirements:**<br/>\n",
    "\n",
    "1. You need to do basic feature engineering, data preprocessing, modelling and model tuning work in this homework.\n",
    "\n",
    "2. Please **focus more on feature extractions** in this homework, if your time is limited, you don't need to realize all your thoughts, but you need to spend sometime to think about this and give us several thoughts among those you don't realize.\n",
    "\n",
    "3. This is just a homework, **you don't need to persue the perfect work if your time is limited**, since it will cost you a lot of time to improve it to a relatively good model. Again, this homework is just to nurture your basic sense of doing Kaggle. The real battle will come soon, that's the Kaggle competition you need to spend a lot of time and energies on."
   ]
  },
  {
   "cell_type": "code",
   "execution_count": null,
   "metadata": {
    "collapsed": true
   },
   "outputs": [],
   "source": [
    "## Type your answers here ##\n"
   ]
  }
 ],
 "metadata": {
  "kernelspec": {
   "display_name": "Python 3",
   "language": "python",
   "name": "python3"
  },
  "language_info": {
   "codemirror_mode": {
    "name": "ipython",
    "version": 3
   },
   "file_extension": ".py",
   "mimetype": "text/x-python",
   "name": "python",
   "nbconvert_exporter": "python",
   "pygments_lexer": "ipython3",
   "version": "3.5.3"
  },
  "toc": {
   "nav_menu": {},
   "number_sections": true,
   "sideBar": true,
   "skip_h1_title": false,
   "toc_cell": false,
   "toc_position": {},
   "toc_section_display": "block",
   "toc_window_display": false
  }
 },
 "nbformat": 4,
 "nbformat_minor": 1
}
