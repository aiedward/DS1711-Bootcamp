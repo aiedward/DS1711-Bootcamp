{
 "cells": [
  {
   "cell_type": "markdown",
   "metadata": {},
   "source": [
    "# Week1-1 Notes"
   ]
  },
  {
   "cell_type": "markdown",
   "metadata": {},
   "source": [
    "### **Tasks:**\n",
    "1. Know the basic concept of:\n",
    "   * Data science project lifecycle\n",
    "   * Cluster and distributed computing\n",
    "   * Hadoop Eco-system\n",
    "2. The basic linux command line.\n",
    "3. How to log into DAL Cluster and transfer the files."
   ]
  },
  {
   "cell_type": "markdown",
   "metadata": {},
   "source": [
    "### 1. What is Big Data?\n",
    "Four important “V”: Volume, Velocity, Variety, Veracity"
   ]
  },
  {
   "cell_type": "markdown",
   "metadata": {},
   "source": [
    "### 2. Data science project life cycle\n",
    "1. Business Requirement (Understand the data – Specify the business requirements); \n",
    "2. Data Acquisition/Collection;\n",
    "3. Data Preparation;\n",
    "4. Feature Engineering (**Important!!**)\n",
    "    - Select or create features \n",
    "    - Feature Relevance \n",
    "    - Experiment & Validation \n",
    "    - Change feature set \n",
    "    - Back to first step)\n",
    "5. Hypothesis & Modeling (Model selecting process is listed below)\n",
    "6. Evaluation & Interpretation\n",
    "7. Deployment your product to platform (Algorithm Performance/Accuracy) (Lambda Architecture);\n",
    "8. Operations (Collect feedback); \n",
    "9. Optimization"
   ]
  },
  {
   "cell_type": "markdown",
   "metadata": {},
   "source": [
    "### 3. Model Selecting Process"
   ]
  },
  {
   "cell_type": "markdown",
   "metadata": {},
   "source": [
    "![image](http://scikit-learn.org/stable/_static/ml_map.png)"
   ]
  },
  {
   "cell_type": "markdown",
   "metadata": {},
   "source": [
    "### 4. How does HDFS (Hadoop Distributed File System) work?\n",
    "The files are stored in a cluster instead of a specific computer. The different parts of files might be stored in different machine."
   ]
  },
  {
   "cell_type": "markdown",
   "metadata": {},
   "source": [
    "### 5. Is there \"cd\"\"ls\" command in HDFS ?\n",
    "There is no “cd” “ls” command in hdfs, because “cd” “ls” need to specify a directory (a relevant path), but all the path in hdfs is absolute path."
   ]
  },
  {
   "cell_type": "markdown",
   "metadata": {},
   "source": [
    "### 6. The difference between Spark and Hadoop\n",
    "*\tComputing format\n",
    "    Spark: in memory computation (much quicker)\n",
    "*\tSpark has much less component(SQL/Streaming/MLlib/GraphX) but share the equal function.\n",
    "*\tSpark is easy to install. All the packages are installed at one time. But the components of Hadoop need to be installed seperatly."
   ]
  }
 ],
 "metadata": {
  "kernelspec": {
   "display_name": "Python 3",
   "language": "python",
   "name": "python3"
  },
  "language_info": {
   "codemirror_mode": {
    "name": "ipython",
    "version": 3
   },
   "file_extension": ".py",
   "mimetype": "text/x-python",
   "name": "python",
   "nbconvert_exporter": "python",
   "pygments_lexer": "ipython3",
   "version": "3.6.1"
  }
 },
 "nbformat": 4,
 "nbformat_minor": 2
}
