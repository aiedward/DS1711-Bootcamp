{
 "cells": [
  {
   "cell_type": "markdown",
   "metadata": {},
   "source": [
    "## Demo: Web scraping with BeautifulSoup"
   ]
  },
  {
   "cell_type": "markdown",
   "metadata": {},
   "source": [
    "this demo shows how to use BeautifulSoup to crawl job listing in indeed."
   ]
  },
  {
   "cell_type": "code",
   "execution_count": 3,
   "metadata": {
    "collapsed": false
   },
   "outputs": [],
   "source": [
    "## Import the necessary packages\n",
    "from bs4 import BeautifulSoup\n",
    "import urllib\n",
    "import re\n",
    "import pandas as pd"
   ]
  },
  {
   "cell_type": "markdown",
   "metadata": {},
   "source": [
    "### 1. Reach the link of jobs first"
   ]
  },
  {
   "cell_type": "markdown",
   "metadata": {},
   "source": [
    "use indeed mobile web version since its html is simplier"
   ]
  },
  {
   "cell_type": "code",
   "execution_count": 4,
   "metadata": {
    "collapsed": false
   },
   "outputs": [
    {
     "name": "stdout",
     "output_type": "stream",
     "text": [
      "viewjob?jk=46caf455b09ff764\n",
      "<class 'str'>\n",
      "https://www.indeed.com/m/viewjob?jk=46caf455b09ff764\n",
      "viewjob?jk=6451fc0e875f748b\n",
      "<class 'str'>\n",
      "https://www.indeed.com/m/viewjob?jk=6451fc0e875f748b\n",
      "viewjob?jk=a5858c00f357dcc0\n",
      "<class 'str'>\n",
      "https://www.indeed.com/m/viewjob?jk=a5858c00f357dcc0\n",
      "viewjob?jk=7b8f1e2c8b577bf6\n",
      "<class 'str'>\n",
      "https://www.indeed.com/m/viewjob?jk=7b8f1e2c8b577bf6\n",
      "viewjob?jk=321102a554ae64aa\n",
      "<class 'str'>\n",
      "https://www.indeed.com/m/viewjob?jk=321102a554ae64aa\n",
      "viewjob?jk=16b629bef547ac43\n",
      "<class 'str'>\n",
      "https://www.indeed.com/m/viewjob?jk=16b629bef547ac43\n",
      "viewjob?jk=4518485c49710109\n",
      "<class 'str'>\n",
      "https://www.indeed.com/m/viewjob?jk=4518485c49710109\n",
      "viewjob?jk=1369bc7dfa807cb5\n",
      "<class 'str'>\n",
      "https://www.indeed.com/m/viewjob?jk=1369bc7dfa807cb5\n",
      "viewjob?jk=6b6eaa13bfbb8270\n",
      "<class 'str'>\n",
      "https://www.indeed.com/m/viewjob?jk=6b6eaa13bfbb8270\n",
      "viewjob?jk=1718af7fd649a97a\n",
      "<class 'str'>\n",
      "https://www.indeed.com/m/viewjob?jk=1718af7fd649a97a\n"
     ]
    }
   ],
   "source": [
    "from urllib.request import urlopen\n",
    "url = \"https://www.indeed.com/m/jobs?q=data+scientist&l=Los+Angeles%2C+CA\"\n",
    "page = urlopen(url)\n",
    "soup = BeautifulSoup(page, 'lxml')\n",
    "\n",
    "all_matches = soup.find_all('a', attrs={'rel':['nofollow']})\n",
    "for i in all_matches:\n",
    "    print (i['href'])\n",
    "    print (type(i['href']))\n",
    "    print (\"https://www.indeed.com/m/\"+i['href'])"
   ]
  },
  {
   "cell_type": "markdown",
   "metadata": {},
   "source": [
    "### 2. Find the title, company, location and detailed job description for each job"
   ]
  },
  {
   "cell_type": "markdown",
   "metadata": {},
   "source": [
    "Let's first see a brief example:"
   ]
  },
  {
   "cell_type": "code",
   "execution_count": 32,
   "metadata": {
    "collapsed": false
   },
   "outputs": [],
   "source": [
    "test_html= \\\n",
    "'''\n",
    "<html>\n",
    "\t<body>\n",
    "\t\t<p>\n",
    "\t\t\t<b>\n",
    "\t\t\t\t<font size=\"+1\">Analyst - Data Science</font>\n",
    "\t\t\t</b>\n",
    "\t\t\t<br>The Boston Consulting Group - <span class=\"location\">Los Angeles, CA</span>\n",
    "\t\t</p>\n",
    "\t</body>\n",
    "</html>\n",
    "'''\n"
   ]
  },
  {
   "cell_type": "code",
   "execution_count": 33,
   "metadata": {
    "collapsed": false
   },
   "outputs": [],
   "source": [
    "bs = BeautifulSoup(test_html,'lxml')"
   ]
  },
  {
   "cell_type": "code",
   "execution_count": 34,
   "metadata": {
    "collapsed": false
   },
   "outputs": [
    {
     "name": "stdout",
     "output_type": "stream",
     "text": [
      "Analyst - Data Science\n"
     ]
    }
   ],
   "source": [
    "print(bs.body.p.b.font.text)"
   ]
  },
  {
   "cell_type": "code",
   "execution_count": 35,
   "metadata": {
    "collapsed": false
   },
   "outputs": [
    {
     "name": "stdout",
     "output_type": "stream",
     "text": [
      "\n",
      "\n",
      "Analyst - Data Science\n",
      "\n",
      "The Boston Consulting Group - Los Angeles, CA\n",
      "\n"
     ]
    }
   ],
   "source": [
    "print(bs.body.p.text)"
   ]
  },
  {
   "cell_type": "code",
   "execution_count": 19,
   "metadata": {
    "collapsed": false
   },
   "outputs": [
    {
     "name": "stdout",
     "output_type": "stream",
     "text": [
      "Los Angeles, CA\n"
     ]
    }
   ],
   "source": [
    "print(bs.body.p.span.text)"
   ]
  },
  {
   "cell_type": "markdown",
   "metadata": {},
   "source": [
    "#### Find title, company, location and job description for one position"
   ]
  },
  {
   "cell_type": "code",
   "execution_count": 67,
   "metadata": {
    "collapsed": true
   },
   "outputs": [],
   "source": [
    "title = []\n",
    "company = []\n",
    "location = []\n",
    "jd = []\n",
    "for each in all_matches:\n",
    "    jd_url= 'http://www.indeed.com/m/'+each['href']\n",
    "    jd_page = urlopen(jd_url)\n",
    "    jd_soup = BeautifulSoup(jd_page, 'lxml')\n",
    "    jd_desc = jd_soup.findAll('div',attrs={'id':['desc']}) ## find the structure like: <div id=\"desc\"></>\n",
    "    break\n",
    "#     title.append(jd_soup.body.p.b.font.text)\n",
    "#     company.append(jd_desc[0].span.text)\n",
    "#     location.append(jd_soup.body.p.span.text)\n",
    "#     jd.append(jd_desc[0].text)"
   ]
  },
  {
   "cell_type": "code",
   "execution_count": 68,
   "metadata": {
    "collapsed": false,
    "scrolled": true
   },
   "outputs": [
    {
     "name": "stdout",
     "output_type": "stream",
     "text": [
      "What you’ll be doing...\n",
      "We are looking for a Technical Business Intelligence Manager to join the team to help drive a data-focused product culture for Fios.\n",
      "As a data driven product organization, our mission is to turn terabytes of valuable data into insights and get a deep understanding of video and viewers to impact the strategy and direction of IPTV and video experiences. You will study user behavior, strategic initiatives, markets, content, and new features and bring data and insights into every decision we make. You will find patterns but also assume that our challenges are unique and fearlessly question the product hypothesis through data insights. Above all, your work will impact the way the world experiences TV.\n",
      "What you’ll do: Perform analyses on large sets of data to extract actionable insights that will help drive decisions across the business Communicate data-driven insights and recommendations to key stakeholders You will develop analytic methods, build models, and define metrics to help IPTV improve algorithm performance, user experience, and content engagement You will collaborate with user experience/interface designers, algorithm developers, scientists, and engineers to solve the most challenging and rewarding problems through data insights\n",
      "What we’re looking for...\n",
      "You’ll need to have: Bachelor’s Degree or six or more years of work experience. Six or more years of relevant work experience.\n",
      "Even better if you have: Degree in science, computer science, statistics, economics, mathematics, or similar quantitative discipline. A deep understanding of numbers, as well as a strong business sense. The technical competence to perform more advanced analytics: Data Visualization tools experience (such as Excel, Looker, Tableau, Cuboid etc.) Analytics tools experience (such as , R, SPSS, SQL) Experience performing analysis with large datasets Capability to tackle very loosely defined problems. Ability to work in an Agile manner The ability to build strong relationships with colleagues and stakeholders and be able to explain complex topics in simple terms.\n",
      "\n",
      "When you join Verizon...\n",
      "You’ll be doing work that matters alongside other talented people, transforming the way people, businesses and things connect with each other. Beyond powering America’s fastest and most reliable network, we’re leading the way in broadband, cloud and security solutions, Internet of Things and innovating in areas such as, video entertainment. Of course, we will offer you great pay and benefits, but we’re about more than that. Verizon is a place where you can craft your own path to greatness. Whether you think in code, words, pictures or numbers, find your future at Verizon.\n",
      "Notice(s)\n",
      "Verizon will consider for employment qualified applicants with criminal histories in a manner consistent with the requirements of the Los Angeles Fair Chance Initiative.\n",
      "Equal Employment Opportunity\n",
      "We're proud to be an equal opportunity employer- and celebrate our employees' differences, regardless of race, color, religion, sex, sexual orientation, gender identity, national origin, age, disability, or Veteran status. Different makes us better.\n",
      "Verizon - \n",
      "30+ days ago\n"
     ]
    }
   ],
   "source": [
    "## Job Description\n",
    "print(jd_desc[0].text)"
   ]
  },
  {
   "cell_type": "code",
   "execution_count": 64,
   "metadata": {
    "collapsed": false
   },
   "outputs": [
    {
     "name": "stdout",
     "output_type": "stream",
     "text": [
      "Business Intelligence Manager - Data Analytics\n"
     ]
    }
   ],
   "source": [
    "## Job Title \n",
    "print(jd_soup.body.p.b.font.text)"
   ]
  },
  {
   "cell_type": "code",
   "execution_count": 55,
   "metadata": {
    "collapsed": false
   },
   "outputs": [
    {
     "name": "stdout",
     "output_type": "stream",
     "text": [
      "30+ days ago\n",
      "Fuel Cycle \n"
     ]
    }
   ],
   "source": [
    "## Company Name\n",
    "print(jd_desc[0].span.text)\n",
    "print(jd_soup.body.p.span.previous_sibling.split('-')[0][1:])"
   ]
  },
  {
   "cell_type": "code",
   "execution_count": 69,
   "metadata": {
    "collapsed": false
   },
   "outputs": [
    {
     "data": {
      "text/plain": [
       "['Data Scientist',\n",
       " 'Data Scientist, Revenue Analytics',\n",
       " 'Data Engineer / Scientist',\n",
       " 'Data Entry & Analysis Clerk (entry level)',\n",
       " 'Data Scientist',\n",
       " 'Data Scientist',\n",
       " 'Data Scientist/Quantitative Analyst',\n",
       " 'Data Entry Operator',\n",
       " 'Analytics Expert, Team Manager - Automation & Programming',\n",
       " 'Business Intelligence Manager - Data Analytics']"
      ]
     },
     "execution_count": 69,
     "metadata": {},
     "output_type": "execute_result"
    }
   ],
   "source": [
    "title"
   ]
  },
  {
   "cell_type": "markdown",
   "metadata": {},
   "source": [
    "#### Save the data into Data Frame"
   ]
  },
  {
   "cell_type": "code",
   "execution_count": 71,
   "metadata": {
    "collapsed": true
   },
   "outputs": [],
   "source": [
    "job = {'title': title,\n",
    "         'company': company,\n",
    "         'location': location,\n",
    "         'Job Description': jd}\n",
    "df = pd.DataFrame.from_dict(job)"
   ]
  },
  {
   "cell_type": "code",
   "execution_count": 72,
   "metadata": {
    "collapsed": false
   },
   "outputs": [
    {
     "data": {
      "text/html": [
       "<div>\n",
       "<style>\n",
       "    .dataframe thead tr:only-child th {\n",
       "        text-align: right;\n",
       "    }\n",
       "\n",
       "    .dataframe thead th {\n",
       "        text-align: left;\n",
       "    }\n",
       "\n",
       "    .dataframe tbody tr th {\n",
       "        vertical-align: top;\n",
       "    }\n",
       "</style>\n",
       "<table border=\"1\" class=\"dataframe\">\n",
       "  <thead>\n",
       "    <tr style=\"text-align: right;\">\n",
       "      <th></th>\n",
       "      <th>Job Description</th>\n",
       "      <th>company</th>\n",
       "      <th>location</th>\n",
       "      <th>title</th>\n",
       "    </tr>\n",
       "  </thead>\n",
       "  <tbody>\n",
       "    <tr>\n",
       "      <th>0</th>\n",
       "      <td>Interested in working in a fast-paced start-up...</td>\n",
       "      <td>30+ days ago</td>\n",
       "      <td>Los Angeles, CA</td>\n",
       "      <td>Data Scientist</td>\n",
       "    </tr>\n",
       "    <tr>\n",
       "      <th>1</th>\n",
       "      <td>Snap Inc. is a camera company. We believe that...</td>\n",
       "      <td>Snap Inc.</td>\n",
       "      <td>Los Angeles, CA</td>\n",
       "      <td>Data Scientist, Revenue Analytics</td>\n",
       "    </tr>\n",
       "    <tr>\n",
       "      <th>2</th>\n",
       "      <td>High profile VC Backed Startup seeks Data Engi...</td>\n",
       "      <td>HireClout</td>\n",
       "      <td>Santa Monica, CA</td>\n",
       "      <td>Data Engineer / Scientist</td>\n",
       "    </tr>\n",
       "    <tr>\n",
       "      <th>3</th>\n",
       "      <td>MPCS is a national transportation compliance c...</td>\n",
       "      <td>1 day ago</td>\n",
       "      <td>Sylmar, CA 91342</td>\n",
       "      <td>Data Entry &amp; Analysis Clerk (entry level)</td>\n",
       "    </tr>\n",
       "    <tr>\n",
       "      <th>4</th>\n",
       "      <td>MULTIPLE POSITIONS AVAILABLE\\n\\nDUTIES\\n\\nThe ...</td>\n",
       "      <td>L.A. Care Health Plan</td>\n",
       "      <td>Los Angeles, CA 90017</td>\n",
       "      <td>Data Scientist</td>\n",
       "    </tr>\n",
       "    <tr>\n",
       "      <th>5</th>\n",
       "      <td>JOANY is on a mission to make buying health in...</td>\n",
       "      <td>Joany</td>\n",
       "      <td>Los Angeles, CA 90017</td>\n",
       "      <td>Data Scientist</td>\n",
       "    </tr>\n",
       "    <tr>\n",
       "      <th>6</th>\n",
       "      <td>Data Scientist/Quantitative Analyst/R Programm...</td>\n",
       "      <td>4 days ago</td>\n",
       "      <td>Los Angeles, CA</td>\n",
       "      <td>Data Scientist/Quantitative Analyst</td>\n",
       "    </tr>\n",
       "    <tr>\n",
       "      <th>7</th>\n",
       "      <td>National Genetics Institute (NGI) is part of t...</td>\n",
       "      <td>LabCorp</td>\n",
       "      <td>Los Angeles, CA</td>\n",
       "      <td>Data Entry Operator</td>\n",
       "    </tr>\n",
       "    <tr>\n",
       "      <th>8</th>\n",
       "      <td>PRACTICE AREA:\\n\\n\\nBCG GAMMA delivers powerfu...</td>\n",
       "      <td>The Boston Consulting Group</td>\n",
       "      <td>Los Angeles, CA</td>\n",
       "      <td>Analytics Expert, Team Manager - Automation &amp; ...</td>\n",
       "    </tr>\n",
       "    <tr>\n",
       "      <th>9</th>\n",
       "      <td>What you’ll be doing...\\nWe are looking for a ...</td>\n",
       "      <td>Verizon</td>\n",
       "      <td>Los Angeles, CA 90094</td>\n",
       "      <td>Business Intelligence Manager - Data Analytics</td>\n",
       "    </tr>\n",
       "  </tbody>\n",
       "</table>\n",
       "</div>"
      ],
      "text/plain": [
       "                                     Job Description  \\\n",
       "0  Interested in working in a fast-paced start-up...   \n",
       "1  Snap Inc. is a camera company. We believe that...   \n",
       "2  High profile VC Backed Startup seeks Data Engi...   \n",
       "3  MPCS is a national transportation compliance c...   \n",
       "4  MULTIPLE POSITIONS AVAILABLE\\n\\nDUTIES\\n\\nThe ...   \n",
       "5  JOANY is on a mission to make buying health in...   \n",
       "6  Data Scientist/Quantitative Analyst/R Programm...   \n",
       "7  National Genetics Institute (NGI) is part of t...   \n",
       "8  PRACTICE AREA:\\n\\n\\nBCG GAMMA delivers powerfu...   \n",
       "9  What you’ll be doing...\\nWe are looking for a ...   \n",
       "\n",
       "                       company               location  \\\n",
       "0                 30+ days ago        Los Angeles, CA   \n",
       "1                    Snap Inc.        Los Angeles, CA   \n",
       "2                    HireClout       Santa Monica, CA   \n",
       "3                    1 day ago       Sylmar, CA 91342   \n",
       "4        L.A. Care Health Plan  Los Angeles, CA 90017   \n",
       "5                        Joany  Los Angeles, CA 90017   \n",
       "6                   4 days ago        Los Angeles, CA   \n",
       "7                      LabCorp        Los Angeles, CA   \n",
       "8  The Boston Consulting Group        Los Angeles, CA   \n",
       "9                      Verizon  Los Angeles, CA 90094   \n",
       "\n",
       "                                               title  \n",
       "0                                     Data Scientist  \n",
       "1                  Data Scientist, Revenue Analytics  \n",
       "2                          Data Engineer / Scientist  \n",
       "3          Data Entry & Analysis Clerk (entry level)  \n",
       "4                                     Data Scientist  \n",
       "5                                     Data Scientist  \n",
       "6                Data Scientist/Quantitative Analyst  \n",
       "7                                Data Entry Operator  \n",
       "8  Analytics Expert, Team Manager - Automation & ...  \n",
       "9     Business Intelligence Manager - Data Analytics  "
      ]
     },
     "execution_count": 72,
     "metadata": {},
     "output_type": "execute_result"
    }
   ],
   "source": [
    "df"
   ]
  },
  {
   "cell_type": "markdown",
   "metadata": {},
   "source": [
    "If we don't break the loop above, we can crawl all the job information from one page."
   ]
  },
  {
   "cell_type": "markdown",
   "metadata": {},
   "source": [
    "## 3. Change Pages Automatically"
   ]
  },
  {
   "cell_type": "code",
   "execution_count": 73,
   "metadata": {
    "collapsed": true
   },
   "outputs": [],
   "source": [
    "title = []\n",
    "company = []\n",
    "location = []\n",
    "jd = []\n",
    "url = \"https://www.indeed.com/m/jobs?q=data+scientist&l=Los+Angeles%2C+CA\"\n",
    "for i in range(2):\n",
    "    \n",
    "    page = urlopen(url)\n",
    "    soup = BeautifulSoup(page, 'lxml')\n",
    "    all_matches = soup.findAll(attrs={'rel':['nofollow']})\n",
    "    for each in all_matches:\n",
    "        jd_url= 'http://www.indeed.com/m/'+each['href']\n",
    "        jd_page =urlopen(jd_url)\n",
    "        jd_soup = BeautifulSoup(jd_page, 'lxml')\n",
    "        jd_desc = jd_soup.findAll(attrs={'id':['desc']})\n",
    "        title.append(jd_soup.body.p.b.font.text)\n",
    "        company.append(jd_desc[0].span.text)\n",
    "        location.append(jd_soup.body.p.span.text)\n",
    "        jd.append(jd_desc[0].text)\n",
    "        \n",
    "    ## Change the pages to Next Page\n",
    "    url_all = soup.findAll(attrs={'rel':['next']})\n",
    "    url = 'http://www.indeed.com/m/'+ str(url_all[0]['href'])\n"
   ]
  },
  {
   "cell_type": "code",
   "execution_count": 74,
   "metadata": {
    "collapsed": true
   },
   "outputs": [],
   "source": [
    "job = {'title': title,\n",
    "         'company': company,\n",
    "         'location': location,\n",
    "         'Job Description': jd}\n",
    "df = pd.DataFrame.from_dict(job)"
   ]
  },
  {
   "cell_type": "code",
   "execution_count": 75,
   "metadata": {
    "collapsed": false
   },
   "outputs": [
    {
     "data": {
      "text/html": [
       "<div>\n",
       "<style>\n",
       "    .dataframe thead tr:only-child th {\n",
       "        text-align: right;\n",
       "    }\n",
       "\n",
       "    .dataframe thead th {\n",
       "        text-align: left;\n",
       "    }\n",
       "\n",
       "    .dataframe tbody tr th {\n",
       "        vertical-align: top;\n",
       "    }\n",
       "</style>\n",
       "<table border=\"1\" class=\"dataframe\">\n",
       "  <thead>\n",
       "    <tr style=\"text-align: right;\">\n",
       "      <th></th>\n",
       "      <th>Job Description</th>\n",
       "      <th>company</th>\n",
       "      <th>location</th>\n",
       "      <th>title</th>\n",
       "    </tr>\n",
       "  </thead>\n",
       "  <tbody>\n",
       "    <tr>\n",
       "      <th>0</th>\n",
       "      <td>Interested in working in a fast-paced start-up...</td>\n",
       "      <td>30+ days ago</td>\n",
       "      <td>Los Angeles, CA</td>\n",
       "      <td>Data Scientist</td>\n",
       "    </tr>\n",
       "    <tr>\n",
       "      <th>1</th>\n",
       "      <td>MPCS is a national transportation compliance c...</td>\n",
       "      <td>1 day ago</td>\n",
       "      <td>Sylmar, CA 91342</td>\n",
       "      <td>Data Entry &amp; Analysis Clerk (entry level)</td>\n",
       "    </tr>\n",
       "    <tr>\n",
       "      <th>2</th>\n",
       "      <td>JOANY is on a mission to make buying health in...</td>\n",
       "      <td>Joany</td>\n",
       "      <td>Los Angeles, CA 90017</td>\n",
       "      <td>Data Scientist</td>\n",
       "    </tr>\n",
       "    <tr>\n",
       "      <th>3</th>\n",
       "      <td>In addition to the responsibilities listed bel...</td>\n",
       "      <td>Kaiser Permanente</td>\n",
       "      <td>Pasadena, CA</td>\n",
       "      <td>Data Scientist</td>\n",
       "    </tr>\n",
       "    <tr>\n",
       "      <th>4</th>\n",
       "      <td>MULTIPLE POSITIONS AVAILABLE\\n\\nDUTIES\\n\\nThe ...</td>\n",
       "      <td>L.A. Care Health Plan</td>\n",
       "      <td>Los Angeles, CA 90017</td>\n",
       "      <td>Data Scientist</td>\n",
       "    </tr>\n",
       "    <tr>\n",
       "      <th>5</th>\n",
       "      <td>OPEN RECRUITMENT\\n\\nMANAGEMENT TEAM\\n\\n(CURREN...</td>\n",
       "      <td>Long Beach City College</td>\n",
       "      <td>Long Beach, CA</td>\n",
       "      <td>Data Scientist</td>\n",
       "    </tr>\n",
       "    <tr>\n",
       "      <th>6</th>\n",
       "      <td>Job Description\\n\\nThe Role\\nThis is an execut...</td>\n",
       "      <td>INgrooves Music Group</td>\n",
       "      <td>Los Angeles, CA</td>\n",
       "      <td>Data Scientist</td>\n",
       "    </tr>\n",
       "    <tr>\n",
       "      <th>7</th>\n",
       "      <td>National Genetics Institute (NGI) is part of t...</td>\n",
       "      <td>LabCorp</td>\n",
       "      <td>Los Angeles, CA</td>\n",
       "      <td>Data Entry Operator</td>\n",
       "    </tr>\n",
       "    <tr>\n",
       "      <th>8</th>\n",
       "      <td>Clicktripz is looking for a skilled Data Scien...</td>\n",
       "      <td>Clicktripz</td>\n",
       "      <td>Manhattan Beach, CA</td>\n",
       "      <td>Data Scientist</td>\n",
       "    </tr>\n",
       "    <tr>\n",
       "      <th>9</th>\n",
       "      <td>What you’ll be doing...\\nWe are looking for a ...</td>\n",
       "      <td>Verizon</td>\n",
       "      <td>Los Angeles, CA 90094</td>\n",
       "      <td>Business Intelligence Manager - Data Analytics</td>\n",
       "    </tr>\n",
       "    <tr>\n",
       "      <th>10</th>\n",
       "      <td>Snap Inc. is a camera company. We believe that...</td>\n",
       "      <td>Snap Inc.</td>\n",
       "      <td>Los Angeles, CA</td>\n",
       "      <td>Data Scientist, Revenue Analytics</td>\n",
       "    </tr>\n",
       "    <tr>\n",
       "      <th>11</th>\n",
       "      <td>About Us\\n\\nNBCUniversal is one of the world’s...</td>\n",
       "      <td>NBCUniversal</td>\n",
       "      <td>Universal City, CA</td>\n",
       "      <td>Data Scientist</td>\n",
       "    </tr>\n",
       "    <tr>\n",
       "      <th>12</th>\n",
       "      <td>Riot Games was established in 2006 by entrepre...</td>\n",
       "      <td>Riot Games</td>\n",
       "      <td>Los Angeles, CA</td>\n",
       "      <td>Data Scientist</td>\n",
       "    </tr>\n",
       "    <tr>\n",
       "      <th>13</th>\n",
       "      <td>In the data scientist role, you will:· Work on...</td>\n",
       "      <td>29 days ago</td>\n",
       "      <td>Los Angeles, CA</td>\n",
       "      <td>Data Scientist</td>\n",
       "    </tr>\n",
       "    <tr>\n",
       "      <th>14</th>\n",
       "      <td>ALG has been the industry leader for forecasti...</td>\n",
       "      <td>TrueCar, Inc.</td>\n",
       "      <td>Santa Monica, CA</td>\n",
       "      <td>Data Scientist</td>\n",
       "    </tr>\n",
       "    <tr>\n",
       "      <th>15</th>\n",
       "      <td>High profile VC Backed Startup seeks Data Engi...</td>\n",
       "      <td>HireClout</td>\n",
       "      <td>Santa Monica, CA</td>\n",
       "      <td>Data Engineer / Scientist</td>\n",
       "    </tr>\n",
       "    <tr>\n",
       "      <th>16</th>\n",
       "      <td>Job Duties\\n\\nStatistician reports to senior-l...</td>\n",
       "      <td>UCLA Health</td>\n",
       "      <td>Westwood, CA</td>\n",
       "      <td>Statistician</td>\n",
       "    </tr>\n",
       "    <tr>\n",
       "      <th>17</th>\n",
       "      <td>Data Scientist/Quantitative Analyst/R Programm...</td>\n",
       "      <td>4 days ago</td>\n",
       "      <td>Los Angeles, CA</td>\n",
       "      <td>Data Scientist/Quantitative Analyst</td>\n",
       "    </tr>\n",
       "    <tr>\n",
       "      <th>18</th>\n",
       "      <td>The statistician will work in center's statist...</td>\n",
       "      <td>UCLA</td>\n",
       "      <td>Los Angeles, CA</td>\n",
       "      <td>STATISTICIAN</td>\n",
       "    </tr>\n",
       "    <tr>\n",
       "      <th>19</th>\n",
       "      <td>PRACTICE AREA:\\n\\n\\nBCG GAMMA delivers powerfu...</td>\n",
       "      <td>The Boston Consulting Group</td>\n",
       "      <td>Los Angeles, CA</td>\n",
       "      <td>Analyst - Data Science</td>\n",
       "    </tr>\n",
       "  </tbody>\n",
       "</table>\n",
       "</div>"
      ],
      "text/plain": [
       "                                      Job Description  \\\n",
       "0   Interested in working in a fast-paced start-up...   \n",
       "1   MPCS is a national transportation compliance c...   \n",
       "2   JOANY is on a mission to make buying health in...   \n",
       "3   In addition to the responsibilities listed bel...   \n",
       "4   MULTIPLE POSITIONS AVAILABLE\\n\\nDUTIES\\n\\nThe ...   \n",
       "5   OPEN RECRUITMENT\\n\\nMANAGEMENT TEAM\\n\\n(CURREN...   \n",
       "6   Job Description\\n\\nThe Role\\nThis is an execut...   \n",
       "7   National Genetics Institute (NGI) is part of t...   \n",
       "8   Clicktripz is looking for a skilled Data Scien...   \n",
       "9   What you’ll be doing...\\nWe are looking for a ...   \n",
       "10  Snap Inc. is a camera company. We believe that...   \n",
       "11  About Us\\n\\nNBCUniversal is one of the world’s...   \n",
       "12  Riot Games was established in 2006 by entrepre...   \n",
       "13  In the data scientist role, you will:· Work on...   \n",
       "14  ALG has been the industry leader for forecasti...   \n",
       "15  High profile VC Backed Startup seeks Data Engi...   \n",
       "16  Job Duties\\n\\nStatistician reports to senior-l...   \n",
       "17  Data Scientist/Quantitative Analyst/R Programm...   \n",
       "18  The statistician will work in center's statist...   \n",
       "19  PRACTICE AREA:\\n\\n\\nBCG GAMMA delivers powerfu...   \n",
       "\n",
       "                        company               location  \\\n",
       "0                  30+ days ago        Los Angeles, CA   \n",
       "1                     1 day ago       Sylmar, CA 91342   \n",
       "2                         Joany  Los Angeles, CA 90017   \n",
       "3             Kaiser Permanente           Pasadena, CA   \n",
       "4         L.A. Care Health Plan  Los Angeles, CA 90017   \n",
       "5       Long Beach City College         Long Beach, CA   \n",
       "6         INgrooves Music Group        Los Angeles, CA   \n",
       "7                       LabCorp        Los Angeles, CA   \n",
       "8                    Clicktripz    Manhattan Beach, CA   \n",
       "9                       Verizon  Los Angeles, CA 90094   \n",
       "10                    Snap Inc.        Los Angeles, CA   \n",
       "11                 NBCUniversal     Universal City, CA   \n",
       "12                   Riot Games        Los Angeles, CA   \n",
       "13                  29 days ago        Los Angeles, CA   \n",
       "14                TrueCar, Inc.       Santa Monica, CA   \n",
       "15                    HireClout       Santa Monica, CA   \n",
       "16                  UCLA Health           Westwood, CA   \n",
       "17                   4 days ago        Los Angeles, CA   \n",
       "18                         UCLA        Los Angeles, CA   \n",
       "19  The Boston Consulting Group        Los Angeles, CA   \n",
       "\n",
       "                                             title  \n",
       "0                                   Data Scientist  \n",
       "1        Data Entry & Analysis Clerk (entry level)  \n",
       "2                                   Data Scientist  \n",
       "3                                   Data Scientist  \n",
       "4                                   Data Scientist  \n",
       "5                                   Data Scientist  \n",
       "6                                   Data Scientist  \n",
       "7                              Data Entry Operator  \n",
       "8                                   Data Scientist  \n",
       "9   Business Intelligence Manager - Data Analytics  \n",
       "10               Data Scientist, Revenue Analytics  \n",
       "11                                  Data Scientist  \n",
       "12                                  Data Scientist  \n",
       "13                                  Data Scientist  \n",
       "14                                  Data Scientist  \n",
       "15                       Data Engineer / Scientist  \n",
       "16                                    Statistician  \n",
       "17             Data Scientist/Quantitative Analyst  \n",
       "18                                    STATISTICIAN  \n",
       "19                          Analyst - Data Science  "
      ]
     },
     "execution_count": 75,
     "metadata": {},
     "output_type": "execute_result"
    }
   ],
   "source": [
    "df"
   ]
  }
 ],
 "metadata": {
  "kernelspec": {
   "display_name": "Python 3",
   "language": "python",
   "name": "python3"
  },
  "language_info": {
   "codemirror_mode": {
    "name": "ipython",
    "version": 3
   },
   "file_extension": ".py",
   "mimetype": "text/x-python",
   "name": "python",
   "nbconvert_exporter": "python",
   "pygments_lexer": "ipython3",
   "version": "3.5.2"
  }
 },
 "nbformat": 4,
 "nbformat_minor": 1
}
